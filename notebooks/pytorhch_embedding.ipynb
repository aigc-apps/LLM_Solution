{
 "cells": [
  {
   "cell_type": "code",
   "execution_count": null,
   "metadata": {},
   "outputs": [
    {
     "data": {
      "text/plain": [
       "'/huggingface/sentence_transformers/bge-small-zh-v1.5'"
      ]
     },
     "execution_count": null,
     "metadata": {},
     "output_type": "execute_result"
    }
   ],
   "source": [
    "import os\n",
    "\n",
    "model_dir = \"/huggingface/sentence_transformers\"\n",
    "model_name = \"bge-small-zh-v1.5\"\n",
    "\n",
    "model_path = os.path.join(model_dir, model_name)\n",
    "model_path"
   ]
  },
  {
   "cell_type": "code",
   "execution_count": null,
   "metadata": {},
   "outputs": [
    {
     "data": {
      "text/plain": [
       "'{\"ID\": \"24hmeeeg0000\", \"\\\\u6807\\\\u9898\": \"\\\\u6700\\\\u7f8e\\\\u7684\\\\u9752\\\\u6625\", \"\\\\u5206\\\\u7c7b\": \"\\\\u7535\\\\u89c6\\\\u5267\", \"\\\\u6807\\\\u7b7e\": \"\\\\u9752\\\\u6625,\\\\u519c\\\\u6751,\\\\u5e74\\\\u4ee3,\\\\u6000\\\\u65e7\", \"\\\\u770b\\\\u70b9\": \"\\\\u4f20\\\\u5947,\\\\u63a5\\\\u5730\\\\u6c14,\\\\u786c\\\\u6c49,\\\\u6276\\\\u8d2b,\\\\u6b63\\\\u80fd\\\\u91cf,\\\\u521d\\\\u604b,\\\\u4e3b\\\\u65cb\\\\u5f8b,\\\\u8003\\\\u53e4,CCTV,\\\\u52b1\\\\u5fd7,\\\\u6cbb\\\\u6108,\\\\u50ac\\\\u6cea,\\\\u840c\\\\u5ba0\", \"\\\\u6f14\\\\u5458\": \"\\\\u5218\\\\u667a\\\\u626c,\\\\u4f55\\\\u96e8\\\\u8679,\\\\u8d75\\\\u6052\\\\u714a\", \"\\\\u5bfc\\\\u6f14\": \"\\\\u5de8\\\\u5174\\\\u8302\", \"\\\\u53d1\\\\u5e03\\\\u5e74\\\\u4efd\": 2018.0, \"\\\\u9002\\\\u5408\\\\u5e74\\\\u9f84\\\\u6bb5\": \"19-34\\\\u5c81\\\\u7537\", \"\\\\u60c5\\\\u7eea\": \"\\\\u53ef\\\\u7f13\\\\u89e3\\\\u5b64\\\\u72ec,\\\\u5931\\\\u671b,\\\\u6cae\\\\u4e27\\\\u60c5\\\\u7eea\\\\u3002\", \"\\\\u5929\\\\u6c14\": \"\\\\u6674\\\\u5929,\\\\u591a\\\\u4e91\\\\u65f6\\\\u9002\\\\u5408\\\\u89c2\\\\u770b\\\\u3002\", \"\\\\u884c\\\\u4e1a\": NaN, \"\\\\u58f0\\\\u7eb9\": NaN, \"rating_score\": 0.689, \"\\\\u7b80\\\\u4ecb\": \"\\\\u6674\\\\u5929,\\\\u591a\\\\u4e91\\\\u65f6\\\\u9002\\\\u5408\\\\u89c2\\\\u770b\\\\u3002\\\\u53ef\\\\u7f13\\\\u89e3\\\\u5b64\\\\u72ec,\\\\u5931\\\\u671b,\\\\u6cae\\\\u4e27\\\\u60c5\\\\u7eea\\\\u3002\\\\u8fd9\\\\u662f\\\\u4e00\\\\u4e2a\\\\u7279\\\\u6b8a\\\\u5e74\\\\u4ee3\\\\u7684\\\\u6545\\\\u4e8b\\\\u3002\\\\u8fd9\\\\u662f\\\\u4e00\\\\u6bb5\\\\u4eba\\\\u7c7b\\\\u6539\\\\u9020\\\\u81ea\\\\u7136\\\\u5229\\\\u7528\\\\u81ea\\\\u7136\\\\u7684\\\\u4f20\\\\u5947\\\\u3002\\\\u8fd9\\\\u662f\\\\u4e00\\\\u90e8\\\\u6b4c\\\\u9882\\\\u4e2d\\\\u56fd\\\\u5317\\\\u90e8\\\\u9ad8\\\\u539f\\\\u8352\\\\u6f20\\\\u585e\\\\u7f55\\\\u575d\\\\u4e0a\\\\u8001\\\\u4e00\\\\u4ee3\\\\u9020\\\\u6797\\\\u4eba\\\\u5949\\\\u732e\\\\u9752\\\\u6625\\\\u548c\\\\u751f\\\\u547d\\\\u7684\\\\u82f1\\\\u96c4\\\\u53f2\\\\u8bd7\\\\u3002\\\\u4e0a\\\\u4e16\\\\u7eaa\\\\u516d\\\\u5341\\\\u5e74\\\\u4ee3\\\\u521d\\\\uff0c\\\\u4e3a\\\\u51cf\\\\u5c11\\\\u4eac\\\\u6d25\\\\u5180\\\\u5730\\\\u533a\\\\u7684\\\\u98ce\\\\u6c99\\\\u5371\\\\u5bb3\\\\uff0c\\\\u56fd\\\\u5bb6\\\\u6307\\\\u5b9a\\\\u7531\\\\u6797\\\\u4e1a\\\\u90e8\\\\u548c\\\\u6cb3\\\\u5317\\\\u7701\\\\u5728\\\\u627f\\\\u5fb7\\\\u5883\\\\u5185\\\\u9ad8\\\\u539f\\\\u8352\\\\u6f20\\\\u585e\\\\u7f55\\\\u575d\\\\u4e0a\\\\u5efa\\\\u7acb\\\\u673a\\\\u68b0\\\\u6797\\\\u573a\\\\uff0c\\\\u62b5\\\\u5fa1\\\\u6d51\\\\u5584\\\\u8fbe\\\\u514b\\\\u548c\\\\u79d1\\\\u5c14\\\\u6c81\\\\u6c99\\\\u5730\\\\u5357\\\\u4fb5\\\\u3002\\\\u4ee5\\\\u4e3b\\\\u4eba\\\\u516c\\\\u51af\\\\u7a0b\\\\u3001\\\\u8983\\\\u96ea\\\\u6885\\\\u7b49\\\\u4e3a\\\\u4ee3\\\\u8868\\\\u7684\\\\u7b2c\\\\u4e00\\\\u4ee3\\\\u9020\\\\u6797\\\\u4eba\\\\u2014\\\\u2014\\\\u6765\\\\u81ea\\\\u5168\\\\u56fd18\\\\u4e2a\\\\u7701\\\\u5e02\\\\u7684\\\\u6797\\\\u4e1a\\\\u5927\\\\u4e2d\\\\u4e13\\\\u6bd5\\\\u4e1a\\\\u751f\\\\u4e0e\\\\u6797\\\\u4e1a\\\\u5e72\\\\u90e8\\\\u804c\\\\u5de5\\\\u4e3a\\\\u9aa8\\\\u5e72\\\\u7684369\\\\u4eba\\\\u5f00\\\\u8352\\\\u961f\\\\u4f0d\\\\uff0c\\\\u5e26\\\\u9886\\\\u5f53\\\\u5730\\\\u5e72\\\\u90e8\\\\u7fa4\\\\u4f17\\\\u62c9\\\\u5f00\\\\u4e86\\\\u4e0e\\\\u81ea\\\\u7136\\\\u6297\\\\u4e89\\\\u7684\\\\u5e8f\\\\u5e55\\\\u3002\\\\u5c82\\\\u6599\\\\uff0c\\\\u56e0\\\\u9020\\\\u6797\\\\u7acb\\\\u5730\\\\u6761\\\\u4ef6\\\\u6076\\\\u52a3\\\\u673a\\\\u68b0\\\\u9020\\\\u6797\\\\u5931\\\\u8d25\\\\uff0c\\\\u8f6c\\\\u4e3a\\\\u4eba\\\\u5de5\\\\u9020\\\\u6797\\\\u3002\\\\u4ed6\\\\u4eec\\\\u5728\\\\u5e73\\\\u5747\\\\u6d77\\\\u62d41500\\\\u7c73\\\\u3001\\\\u6700\\\\u4f4e\\\\u6c14\\\\u6e29\\\\u8d85\\\\u8fc7\\\\u96f6\\\\u4e0b43\\\\u5ea6\\\\u7684\\\\u73af\\\\u5883\\\\u4e0b\\\\uff0c\\\\u5728\\\\u957f\\\\u8fbe\\\\u534a\\\\u4e2a\\\\u4e16\\\\u7eaa\\\\u7684\\\\u65f6\\\\u5149\\\\u91cc\\\\uff0c\\\\u6218\\\\u4e25\\\\u5bd2\\\\u3001\\\\u6597\\\\u9177\\\\u6691\\\\u3001\\\\u629b\\\\u9752\\\\u6625\\\\u3001\\\\u6d12\\\\u70ed\\\\u8840\\\\uff0c\\\\u8425\\\\u9020\\\\u8d77\\\\u201c\\\\u4e16\\\\u754c\\\\u4e0a\\\\u6700\\\\u5927\\\\u7684\\\\u4eba\\\\u5de5\\\\u6797\\\\u6d77\\\\u201d\\\\uff0c\\\\u7b51\\\\u7262\\\\u4eac\\\\u6d25\\\\u5180\\\\u7eff\\\\u8272\\\\u751f\\\\u6001\\\\u5c4f\\\\u969c\\\\uff0c\\\\u62f1\\\\u536b\\\\u4eac\\\\u6d25\\\\u5180\\\\u84dd\\\\u5929\\\\uff0c\\\\u5728\\\\u8352\\\\u51c9\\\\u7684\\\\u585e\\\\u7f55\\\\u575d\\\\u4e0a\\\\uff0c\\\\u51af\\\\u7a0b\\\\u548c\\\\u4ed6\\\\u7684\\\\u4f19\\\\u4f34\\\\u4eec\\\\u540c\\\\u8fdb\\\\u9000\\\\uff0c\\\\u5171\\\\u60a3\\\\u96be\\\\uff0c\\\\u4e5f\\\\u6536\\\\u83b7\\\\u4e86\\\\u53cb\\\\u8c0a\\\\u548c\\\\u7231\\\\u60c5\\\\uff0c\\\\u8c31\\\\u5199\\\\u4e86\\\\u58ee\\\\u4e3d\\\\u7684\\\\u4eba\\\\u751f\\\\u8bd7\\\\u7bc7\\\\u3002\", \"\\\\u5185\\\\u5bb9\\\\u6e90\": \"youku,yinhe\"}'"
      ]
     },
     "execution_count": null,
     "metadata": {},
     "output_type": "execute_result"
    }
   ],
   "source": [
    "import pandas as pd\n",
    "import json\n",
    "\n",
    "df = pd.read_csv(\"/home/feiyue/movie_sample.csv\", encoding=\"gb18030\")\n",
    "movie_samples = df.to_dict(\"records\")\n",
    "sample_inputs = [json.dumps(s) for s in movie_samples]\n",
    "sample_inputs[0]"
   ]
  },
  {
   "cell_type": "code",
   "execution_count": null,
   "metadata": {},
   "outputs": [
    {
     "name": "stderr",
     "output_type": "stream",
     "text": [
      "/mnt/llm/feiyue/miniconda3/envs/ragenv/lib/python3.11/site-packages/tqdm/auto.py:21: TqdmWarning: IProgress not found. Please update jupyter and ipywidgets. See https://ipywidgets.readthedocs.io/en/stable/user_install.html\n",
      "  from .autonotebook import tqdm as notebook_tqdm\n"
     ]
    }
   ],
   "source": [
    "from llama_index.embeddings.huggingface import HuggingFaceEmbedding\n",
    "\n",
    "embed_model = HuggingFaceEmbedding(model_name=model_path)"
   ]
  },
  {
   "cell_type": "code",
   "execution_count": null,
   "metadata": {},
   "outputs": [
    {
     "name": "stdout",
     "output_type": "stream",
     "text": [
      "CPU times: user 20.9 s, sys: 141 ms, total: 21 s\n",
      "Wall time: 20.1 s\n"
     ]
    }
   ],
   "source": [
    "%%time\n",
    "for i in sample_inputs:\n",
    "    embeddings = embed_model.get_text_embedding(i)\n",
    "# embeddings"
   ]
  },
  {
   "cell_type": "code",
   "execution_count": null,
   "metadata": {},
   "outputs": [],
   "source": [
    "embeddings = embed_model.get_text_embedding_batch(sample_inputs)"
   ]
  }
 ],
 "metadata": {
  "kernelspec": {
   "display_name": "ragenv",
   "language": "python",
   "name": "python3"
  },
  "language_info": {
   "codemirror_mode": {
    "name": "ipython",
    "version": 3
   },
   "file_extension": ".py",
   "mimetype": "text/x-python",
   "name": "python",
   "nbconvert_exporter": "python",
   "pygments_lexer": "ipython3"
  }
 },
 "nbformat": 4,
 "nbformat_minor": 2
}
